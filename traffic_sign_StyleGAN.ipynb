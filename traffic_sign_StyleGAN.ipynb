{
  "cells": [
    {
      "cell_type": "markdown",
      "metadata": {
        "id": "view-in-github",
        "colab_type": "text"
      },
      "source": [
        "<a href=\"https://colab.research.google.com/github/codingat029/stylegan-1/blob/master/traffic_sign_StyleGAN.ipynb\" target=\"_parent\"><img src=\"https://colab.research.google.com/assets/colab-badge.svg\" alt=\"Open In Colab\"/></a>"
      ]
    },
    {
      "cell_type": "code",
      "execution_count": null,
      "metadata": {
        "colab": {
          "base_uri": "https://localhost:8080/"
        },
        "id": "eYroYekxMxG7",
        "outputId": "04c1fe20-4fe4-4898-c398-e1ea71767352"
      },
      "outputs": [
        {
          "output_type": "stream",
          "name": "stdout",
          "text": [
            "Mounted at /content/drive\n"
          ]
        }
      ],
      "source": [
        "from google.colab import drive\n",
        "drive.mount('/content/drive')"
      ]
    },
    {
      "cell_type": "code",
      "execution_count": null,
      "metadata": {
        "colab": {
          "base_uri": "https://localhost:8080/"
        },
        "id": "ldPUX0WKJ0C-",
        "outputId": "dac64dd0-a61a-4010-bf33-c27acac9af71"
      },
      "outputs": [
        {
          "output_type": "stream",
          "name": "stdout",
          "text": [
            "/content/drive/MyDrive/traffic_sign_gan/exp_3/stylegan2-ada-pytorch/stylegan2-ada-pytorch-main\n"
          ]
        }
      ],
      "source": [
        "%cd /content/drive/MyDrive/traffic_sign_gan/exp_3/stylegan2-ada-pytorch/stylegan2-ada-pytorch-main"
      ]
    },
    {
      "cell_type": "code",
      "execution_count": null,
      "metadata": {
        "colab": {
          "base_uri": "https://localhost:8080/"
        },
        "id": "wQrEQKnWjE58",
        "outputId": "79fe2a56-1bdd-44be-98e5-c0f67e02af52"
      },
      "outputs": [
        {
          "output_type": "stream",
          "name": "stdout",
          "text": [
            "/content/drive/MyDrive/traffic_sign_gan/exp_3/stylegan2-ada-pytorch/stylegan2-ada-pytorch-main\n"
          ]
        }
      ],
      "source": [
        "!pwd"
      ]
    },
    {
      "cell_type": "code",
      "execution_count": null,
      "metadata": {
        "colab": {
          "base_uri": "https://localhost:8080/"
        },
        "id": "ckW2qf25J4TO",
        "outputId": "adebe587-3cdb-4bfb-e14c-4645abecd8c8"
      },
      "outputs": [
        {
          "output_type": "stream",
          "name": "stdout",
          "text": [
            "calc_metrics.py  docker_run.sh  LICENSE.txt   \u001b[0m\u001b[01;34m__pycache__\u001b[0m/     \u001b[01;34mtraining\u001b[0m/\n",
            "dataset_tool.py  \u001b[01;34mdocs\u001b[0m/          \u001b[01;34mmetrics\u001b[0m/      README.md        train.py\n",
            "\u001b[01;34mdnnlib\u001b[0m/          generate.py    mini.sh       style_mixing.py\n",
            "Dockerfile       legacy.py      projector.py  \u001b[01;34mtorch_utils\u001b[0m/\n"
          ]
        }
      ],
      "source": [
        "%ls"
      ]
    },
    {
      "cell_type": "code",
      "execution_count": null,
      "metadata": {
        "colab": {
          "base_uri": "https://localhost:8080/"
        },
        "id": "vavmWYQkGMor",
        "outputId": "b3044151-2b15-46b1-c14d-380db3b824a7"
      },
      "outputs": [
        {
          "output_type": "stream",
          "name": "stdout",
          "text": [
            "2.0.1+cu118\n"
          ]
        }
      ],
      "source": [
        "import torch\n",
        "\n",
        "print(torch.__version__)\n"
      ]
    },
    {
      "cell_type": "code",
      "execution_count": null,
      "metadata": {
        "colab": {
          "base_uri": "https://localhost:8080/"
        },
        "id": "DRUb1pYNj8g9",
        "outputId": "b08e5c7d-c220-4c03-9c7e-787d916b1b08"
      },
      "outputs": [
        {
          "output_type": "stream",
          "name": "stdout",
          "text": [
            "--2023-06-22 10:13:09--  https://repo.anaconda.com/miniconda/Miniconda3-py38_4.8.2-Linux-x86_64.sh\n",
            "Resolving repo.anaconda.com (repo.anaconda.com)... 104.16.131.3, 104.16.130.3, 2606:4700::6810:8203, ...\n",
            "Connecting to repo.anaconda.com (repo.anaconda.com)|104.16.131.3|:443... connected.\n",
            "HTTP request sent, awaiting response... 200 OK\n",
            "Length: 89817099 (86M) [application/x-sh]\n",
            "Saving to: ‘mini.sh’\n",
            "\n",
            "mini.sh             100%[===================>]  85.66M  62.2MB/s    in 1.4s    \n",
            "\n",
            "2023-06-22 10:13:10 (62.2 MB/s) - ‘mini.sh’ saved [89817099/89817099]\n",
            "\n",
            "PREFIX=/usr/local\n",
            "Unpacking payload ...\n",
            "Collecting package metadata (current_repodata.json): - \b\b\\ \b\bdone\n",
            "Solving environment: / \b\b- \b\bdone\n",
            "\n",
            "## Package Plan ##\n",
            "\n",
            "  environment location: /usr/local\n",
            "\n",
            "  added / updated specs:\n",
            "    - _libgcc_mutex==0.1=main\n",
            "    - asn1crypto==1.3.0=py38_0\n",
            "    - ca-certificates==2020.1.1=0\n",
            "    - certifi==2019.11.28=py38_0\n",
            "    - cffi==1.14.0=py38h2e261b9_0\n",
            "    - chardet==3.0.4=py38_1003\n",
            "    - conda-package-handling==1.6.0=py38h7b6447c_0\n",
            "    - conda==4.8.2=py38_0\n",
            "    - cryptography==2.8=py38h1ba5d50_0\n",
            "    - idna==2.8=py38_1000\n",
            "    - ld_impl_linux-64==2.33.1=h53a641e_7\n",
            "    - libedit==3.1.20181209=hc058e9b_0\n",
            "    - libffi==3.2.1=hd88cf55_4\n",
            "    - libgcc-ng==9.1.0=hdf63c60_0\n",
            "    - libstdcxx-ng==9.1.0=hdf63c60_0\n",
            "    - ncurses==6.2=he6710b0_0\n",
            "    - openssl==1.1.1d=h7b6447c_4\n",
            "    - pip==20.0.2=py38_1\n",
            "    - pycosat==0.6.3=py38h7b6447c_0\n",
            "    - pycparser==2.19=py_0\n",
            "    - pyopenssl==19.1.0=py38_0\n",
            "    - pysocks==1.7.1=py38_0\n",
            "    - python==3.8.1=h0371630_1\n",
            "    - readline==7.0=h7b6447c_5\n",
            "    - requests==2.22.0=py38_1\n",
            "    - ruamel_yaml==0.15.87=py38h7b6447c_0\n",
            "    - setuptools==45.2.0=py38_0\n",
            "    - six==1.14.0=py38_0\n",
            "    - sqlite==3.31.1=h7b6447c_0\n",
            "    - tk==8.6.8=hbc83047_0\n",
            "    - tqdm==4.42.1=py_0\n",
            "    - urllib3==1.25.8=py38_0\n",
            "    - wheel==0.34.2=py38_0\n",
            "    - xz==5.2.4=h14c3975_4\n",
            "    - yaml==0.1.7=had09818_2\n",
            "    - zlib==1.2.11=h7b6447c_3\n",
            "\n",
            "\n",
            "The following NEW packages will be INSTALLED:\n",
            "\n",
            "  _libgcc_mutex      pkgs/main/linux-64::_libgcc_mutex-0.1-main\n",
            "  asn1crypto         pkgs/main/linux-64::asn1crypto-1.3.0-py38_0\n",
            "  ca-certificates    pkgs/main/linux-64::ca-certificates-2020.1.1-0\n",
            "  certifi            pkgs/main/linux-64::certifi-2019.11.28-py38_0\n",
            "  cffi               pkgs/main/linux-64::cffi-1.14.0-py38h2e261b9_0\n",
            "  chardet            pkgs/main/linux-64::chardet-3.0.4-py38_1003\n",
            "  conda              pkgs/main/linux-64::conda-4.8.2-py38_0\n",
            "  conda-package-han~ pkgs/main/linux-64::conda-package-handling-1.6.0-py38h7b6447c_0\n",
            "  cryptography       pkgs/main/linux-64::cryptography-2.8-py38h1ba5d50_0\n",
            "  idna               pkgs/main/linux-64::idna-2.8-py38_1000\n",
            "  ld_impl_linux-64   pkgs/main/linux-64::ld_impl_linux-64-2.33.1-h53a641e_7\n",
            "  libedit            pkgs/main/linux-64::libedit-3.1.20181209-hc058e9b_0\n",
            "  libffi             pkgs/main/linux-64::libffi-3.2.1-hd88cf55_4\n",
            "  libgcc-ng          pkgs/main/linux-64::libgcc-ng-9.1.0-hdf63c60_0\n",
            "  libstdcxx-ng       pkgs/main/linux-64::libstdcxx-ng-9.1.0-hdf63c60_0\n",
            "  ncurses            pkgs/main/linux-64::ncurses-6.2-he6710b0_0\n",
            "  openssl            pkgs/main/linux-64::openssl-1.1.1d-h7b6447c_4\n",
            "  pip                pkgs/main/linux-64::pip-20.0.2-py38_1\n",
            "  pycosat            pkgs/main/linux-64::pycosat-0.6.3-py38h7b6447c_0\n",
            "  pycparser          pkgs/main/noarch::pycparser-2.19-py_0\n",
            "  pyopenssl          pkgs/main/linux-64::pyopenssl-19.1.0-py38_0\n",
            "  pysocks            pkgs/main/linux-64::pysocks-1.7.1-py38_0\n",
            "  python             pkgs/main/linux-64::python-3.8.1-h0371630_1\n",
            "  readline           pkgs/main/linux-64::readline-7.0-h7b6447c_5\n",
            "  requests           pkgs/main/linux-64::requests-2.22.0-py38_1\n",
            "  ruamel_yaml        pkgs/main/linux-64::ruamel_yaml-0.15.87-py38h7b6447c_0\n",
            "  setuptools         pkgs/main/linux-64::setuptools-45.2.0-py38_0\n",
            "  six                pkgs/main/linux-64::six-1.14.0-py38_0\n",
            "  sqlite             pkgs/main/linux-64::sqlite-3.31.1-h7b6447c_0\n",
            "  tk                 pkgs/main/linux-64::tk-8.6.8-hbc83047_0\n",
            "  tqdm               pkgs/main/noarch::tqdm-4.42.1-py_0\n",
            "  urllib3            pkgs/main/linux-64::urllib3-1.25.8-py38_0\n",
            "  wheel              pkgs/main/linux-64::wheel-0.34.2-py38_0\n",
            "  xz                 pkgs/main/linux-64::xz-5.2.4-h14c3975_4\n",
            "  yaml               pkgs/main/linux-64::yaml-0.1.7-had09818_2\n",
            "  zlib               pkgs/main/linux-64::zlib-1.2.11-h7b6447c_3\n",
            "\n",
            "\n",
            "Preparing transaction: | \b\b/ \b\b- \b\b\\ \b\bdone\n",
            "Executing transaction: / \b\b- \b\b\\ \b\b| \b\b/ \b\b- \b\b\\ \b\b| \b\b/ \b\b- \b\b\\ \b\b| \b\b/ \b\b- \b\b\\ \b\bdone\n",
            "installation finished.\n",
            "WARNING:\n",
            "    You currently have a PYTHONPATH environment variable set. This may cause\n",
            "    unexpected behavior when running the Python interpreter in Miniconda3.\n",
            "    For best results, please verify that your PYTHONPATH only points to\n",
            "    directories of packages that are compatible with the Python interpreter\n",
            "    in Miniconda3: /usr/local\n"
          ]
        }
      ],
      "source": [
        "!wget -O mini.sh https://repo.anaconda.com/miniconda/Miniconda3-py38_4.8.2-Linux-x86_64.sh\n",
        "!chmod +x mini.sh\n",
        "!bash ./mini.sh -b -f -p /usr/local"
      ]
    },
    {
      "cell_type": "code",
      "execution_count": null,
      "metadata": {
        "colab": {
          "base_uri": "https://localhost:8080/"
        },
        "id": "haH-YOyrJ70X",
        "outputId": "f3e5585b-9447-4fb0-ff64-d4bdc599d836"
      },
      "outputs": [
        {
          "output_type": "stream",
          "name": "stdout",
          "text": [
            "Looking in indexes: https://pypi.org/simple, https://us-python.pkg.dev/colab-wheels/public/simple/\n",
            "Looking in links: https://download.pytorch.org/whl/torch_stable.html\n",
            "Collecting torch==1.7.1+cu110\n",
            "  Downloading https://download.pytorch.org/whl/cu110/torch-1.7.1%2Bcu110-cp38-cp38-linux_x86_64.whl (1156.8 MB)\n",
            "\u001b[K     |████████████████████████████████| 1156.8 MB 5.7 kB/s \n",
            "\u001b[?25hCollecting torchvision==0.8.2+cu110\n",
            "  Downloading https://download.pytorch.org/whl/cu110/torchvision-0.8.2%2Bcu110-cp38-cp38-linux_x86_64.whl (12.9 MB)\n",
            "\u001b[K     |████████████████████████████████| 12.9 MB 43.7 MB/s \n",
            "\u001b[?25hCollecting typing-extensions\n",
            "  Downloading typing_extensions-4.6.3-py3-none-any.whl (31 kB)\n",
            "Collecting numpy\n",
            "  Downloading numpy-1.24.3-cp38-cp38-manylinux_2_17_x86_64.manylinux2014_x86_64.whl (17.3 MB)\n",
            "\u001b[K     |████████████████████████████████| 17.3 MB 548 kB/s \n",
            "\u001b[?25hCollecting pillow>=4.1.1\n",
            "  Downloading Pillow-9.5.0-cp38-cp38-manylinux_2_17_x86_64.manylinux2014_x86_64.whl (3.3 MB)\n",
            "\u001b[K     |████████████████████████████████| 3.3 MB 51.4 MB/s \n",
            "\u001b[?25hInstalling collected packages: typing-extensions, numpy, torch, pillow, torchvision\n",
            "Successfully installed numpy-1.24.3 pillow-9.5.0 torch-1.7.1+cu110 torchvision-0.8.2+cu110 typing-extensions-4.6.3\n"
          ]
        }
      ],
      "source": [
        "%pip install torch==1.7.1+cu110 torchvision==0.8.2+cu110 -f https://download.pytorch.org/whl/torch_stable.html"
      ]
    },
    {
      "cell_type": "code",
      "execution_count": null,
      "metadata": {
        "colab": {
          "base_uri": "https://localhost:8080/"
        },
        "id": "5TJqU_2UKdef",
        "outputId": "94b3c054-4d57-4368-8976-c9118a011b5c"
      },
      "outputs": [
        {
          "name": "stdout",
          "output_type": "stream",
          "text": [
            "Looking in indexes: https://pypi.org/simple, https://us-python.pkg.dev/colab-wheels/public/simple/\n",
            "Collecting click\n",
            "  Downloading click-8.1.3-py3-none-any.whl (96 kB)\n",
            "\u001b[K     |████████████████████████████████| 96 kB 5.1 MB/s \n",
            "\u001b[?25hRequirement already satisfied: requests in /usr/local/lib/python3.8/site-packages (2.22.0)\n",
            "Requirement already satisfied: tqdm in /usr/local/lib/python3.8/site-packages (4.42.1)\n",
            "Collecting pyspng\n",
            "  Downloading pyspng-0.1.1-cp38-cp38-manylinux_2_17_x86_64.manylinux2014_x86_64.whl (205 kB)\n",
            "\u001b[K     |████████████████████████████████| 205 kB 57.0 MB/s \n",
            "\u001b[?25hCollecting ninja\n",
            "  Downloading ninja-1.11.1-py2.py3-none-manylinux_2_12_x86_64.manylinux2010_x86_64.whl (145 kB)\n",
            "\u001b[K     |████████████████████████████████| 145 kB 70.5 MB/s \n",
            "\u001b[?25hCollecting imageio-ffmpeg==0.4.3\n",
            "  Downloading imageio_ffmpeg-0.4.3-py3-none-manylinux2010_x86_64.whl (26.9 MB)\n",
            "\u001b[K     |████████████████████████████████| 26.9 MB 1.3 MB/s \n",
            "\u001b[?25hRequirement already satisfied: idna<2.9,>=2.5 in /usr/local/lib/python3.8/site-packages (from requests) (2.8)\n",
            "Requirement already satisfied: certifi>=2017.4.17 in /usr/local/lib/python3.8/site-packages (from requests) (2019.11.28)\n",
            "Requirement already satisfied: chardet<3.1.0,>=3.0.2 in /usr/local/lib/python3.8/site-packages (from requests) (3.0.4)\n",
            "Requirement already satisfied: urllib3!=1.25.0,!=1.25.1,<1.26,>=1.21.1 in /usr/local/lib/python3.8/site-packages (from requests) (1.25.8)\n",
            "Requirement already satisfied: numpy in /usr/local/lib/python3.8/site-packages (from pyspng) (1.24.3)\n",
            "Installing collected packages: click, pyspng, ninja, imageio-ffmpeg\n",
            "Successfully installed click-8.1.3 imageio-ffmpeg-0.4.3 ninja-1.11.1 pyspng-0.1.1\n"
          ]
        }
      ],
      "source": [
        "%pip install click requests tqdm pyspng ninja imageio-ffmpeg==0.4.3"
      ]
    },
    {
      "cell_type": "code",
      "execution_count": null,
      "metadata": {
        "colab": {
          "base_uri": "https://localhost:8080/"
        },
        "id": "qx84cP1FKhVM",
        "outputId": "770bfb7c-3247-4d0c-f0f4-5534b37926ab"
      },
      "outputs": [
        {
          "name": "stdout",
          "output_type": "stream",
          "text": [
            "Looking in indexes: https://pypi.org/simple, https://us-python.pkg.dev/colab-wheels/public/simple/\n",
            "Requirement already satisfied: click in /usr/local/lib/python3.8/site-packages (8.1.3)\n"
          ]
        }
      ],
      "source": [
        "!pip install click"
      ]
    },
    {
      "cell_type": "code",
      "execution_count": null,
      "metadata": {
        "colab": {
          "base_uri": "https://localhost:8080/"
        },
        "id": "OEGkJzGAX9iV",
        "outputId": "07fbee04-12e0-4899-e271-089b66278a29"
      },
      "outputs": [
        {
          "name": "stdout",
          "output_type": "stream",
          "text": [
            "Usage: dataset_tool.py [OPTIONS]\n",
            "\n",
            "  Convert an image dataset into a dataset archive\n",
            "  usable with StyleGAN2 ADA PyTorch.\n",
            "\n",
            "  The input dataset format is guessed from the\n",
            "  --source argument:\n",
            "\n",
            "  --source *_lmdb/                    Load LSUN dataset\n",
            "  --source cifar-10-python.tar.gz     Load CIFAR-10 dataset\n",
            "  --source train-images-idx3-ubyte.gz Load MNIST dataset\n",
            "  --source path/                      Recursively load all images from path/\n",
            "  --source dataset.zip                Recursively load all images from dataset.zip\n",
            "\n",
            "  Specifying the output format and path:\n",
            "\n",
            "  --dest /path/to/dir                 Save output files under /path/to/dir\n",
            "  --dest /path/to/dataset.zip         Save output files into /path/to/dataset.zip\n",
            "\n",
            "  The output dataset format can be either an image\n",
            "  folder or an uncompressed zip archive. Zip\n",
            "  archives makes it easier to move datasets around\n",
            "  file servers and clusters, and may offer better\n",
            "  training performance on network file systems.\n",
            "\n",
            "  Images within the dataset archive will be stored\n",
            "  as uncompressed PNG. Uncompresed PNGs can be\n",
            "  efficiently decoded in the training loop.\n",
            "\n",
            "  Class labels are stored in a file called\n",
            "  'dataset.json' that is stored at the dataset\n",
            "  root folder.  This file has the following\n",
            "  structure:\n",
            "\n",
            "  {\n",
            "      \"labels\": [\n",
            "          [\"00000/img00000000.png\",6],\n",
            "          [\"00000/img00000001.png\",9],\n",
            "          ... repeated for every image in the datase\n",
            "          [\"00049/img00049999.png\",1]\n",
            "      ]\n",
            "  }\n",
            "\n",
            "  If the 'dataset.json' file cannot be found, the\n",
            "  dataset is interpreted as not containing class\n",
            "  labels.\n",
            "\n",
            "  Image scale/crop and resolution requirements:\n",
            "\n",
            "  Output images must be square-shaped and they\n",
            "  must all have the same power-of-two dimensions.\n",
            "\n",
            "  To scale arbitrary input image size to a\n",
            "  specific width and height, use the --width and\n",
            "  --height options.  Output resolution will be\n",
            "  either the original input resolution (if\n",
            "  --width/--height was not specified) or the one\n",
            "  specified with --width/height.\n",
            "\n",
            "  Use the --transform=center-crop or\n",
            "  --transform=center-crop-wide options to apply a\n",
            "  center crop transform on the input image.  These\n",
            "  options should be used with the --width and\n",
            "  --height options.  For example:\n",
            "\n",
            "  python dataset_tool.py --source LSUN/raw/cat_lmdb --dest /tmp/lsun_cat \\\n",
            "      --transform=center-crop-wide --width 512 --height=384\n",
            "\n",
            "Options:\n",
            "  --source PATH                   Directory or\n",
            "                                  archive name for\n",
            "                                  input dataset\n",
            "                                  [required]\n",
            "  --dest PATH                     Output directory\n",
            "                                  or archive name\n",
            "                                  for output\n",
            "                                  dataset\n",
            "                                  [required]\n",
            "  --max-images INTEGER            Output only up\n",
            "                                  to `max-images`\n",
            "                                  images\n",
            "  --resize-filter [box|lanczos]   Filter to use\n",
            "                                  when resizing\n",
            "                                  images for\n",
            "                                  output\n",
            "                                  resolution\n",
            "                                  [default:\n",
            "                                  lanczos]\n",
            "  --transform [center-crop|center-crop-wide]\n",
            "                                  Input\n",
            "                                  crop/resize mode\n",
            "  --width INTEGER                 Output width\n",
            "  --height INTEGER                Output height\n",
            "  --help                          Show this\n",
            "                                  message and\n",
            "                                  exit.\n"
          ]
        }
      ],
      "source": [
        "!python dataset_tool.py --help"
      ]
    },
    {
      "cell_type": "code",
      "execution_count": null,
      "metadata": {
        "colab": {
          "base_uri": "https://localhost:8080/"
        },
        "id": "d-ZkuLOu9a-d",
        "outputId": "e9d9fce5-949e-43da-8a06-01846557709b"
      },
      "outputs": [
        {
          "name": "stdout",
          "output_type": "stream",
          "text": [
            "100% 10/10 [00:06<00:00,  1.57it/s]\n"
          ]
        }
      ],
      "source": [
        "!python dataset_tool.py --source=/content/drive/MyDrive/traffic_sign_gan/exp_3/bike_dataset/biked --dest=/content/drive/MyDrive/traffic_sign_gan/exp_3/ouput_dir2/dataset.zip --width=128 --height=128"
      ]
    },
    {
      "cell_type": "code",
      "execution_count": null,
      "metadata": {
        "colab": {
          "base_uri": "https://localhost:8080/"
        },
        "id": "NFnAGpZrHxxH",
        "outputId": "5bc332d1-63d4-4d95-a518-c34f7a71be7e"
      },
      "outputs": [
        {
          "name": "stdout",
          "output_type": "stream",
          "text": [
            "Package                Version            \n",
            "---------------------- -------------------\n",
            "asn1crypto             1.3.0              \n",
            "certifi                2019.11.28         \n",
            "cffi                   1.14.0             \n",
            "chardet                3.0.4              \n",
            "click                  8.1.3              \n",
            "conda                  4.8.2              \n",
            "conda-package-handling 1.6.0              \n",
            "cryptography           2.8                \n",
            "idna                   2.8                \n",
            "imageio-ffmpeg         0.4.3              \n",
            "ninja                  1.11.1             \n",
            "numpy                  1.24.3             \n",
            "Pillow                 9.5.0              \n",
            "pip                    20.0.2             \n",
            "pycosat                0.6.3              \n",
            "pycparser              2.19               \n",
            "pyOpenSSL              19.1.0             \n",
            "PySocks                1.7.1              \n",
            "pyspng                 0.1.1              \n",
            "requests               2.22.0             \n",
            "ruamel-yaml            0.15.87            \n",
            "setuptools             45.2.0.post20200210\n",
            "six                    1.14.0             \n",
            "torch                  1.7.1+cu110        \n",
            "torchvision            0.8.2+cu110        \n",
            "tqdm                   4.42.1             \n",
            "typing-extensions      4.6.3              \n",
            "urllib3                1.25.8             \n",
            "wheel                  0.34.2             \n"
          ]
        }
      ],
      "source": [
        "!pip list"
      ]
    },
    {
      "cell_type": "code",
      "execution_count": null,
      "metadata": {
        "colab": {
          "base_uri": "https://localhost:8080/",
          "height": 207
        },
        "id": "UjyswcUvIhPe",
        "outputId": "79e44353-29fe-468e-844e-69a781889a48"
      },
      "outputs": [
        {
          "name": "stdout",
          "output_type": "stream",
          "text": [
            "Looking in indexes: https://pypi.org/simple, https://us-python.pkg.dev/colab-wheels/public/simple/\n",
            "Collecting psutil\n",
            "  Downloading psutil-5.9.5-cp36-abi3-manylinux_2_12_x86_64.manylinux2010_x86_64.manylinux_2_17_x86_64.manylinux2014_x86_64.whl (282 kB)\n",
            "\u001b[K     |████████████████████████████████| 282 kB 24.3 MB/s \n",
            "\u001b[?25hInstalling collected packages: psutil\n",
            "Successfully installed psutil-5.9.5\n"
          ]
        },
        {
          "data": {
            "application/vnd.colab-display-data+json": {
              "pip_warning": {
                "packages": [
                  "psutil"
                ]
              }
            }
          },
          "metadata": {},
          "output_type": "display_data"
        }
      ],
      "source": [
        "!pip install psutil"
      ]
    },
    {
      "cell_type": "code",
      "execution_count": null,
      "metadata": {
        "colab": {
          "base_uri": "https://localhost:8080/"
        },
        "id": "sWCa5gAFKPeJ",
        "outputId": "fb183852-7899-47cc-a430-06bab93acc3f"
      },
      "outputs": [
        {
          "name": "stdout",
          "output_type": "stream",
          "text": [
            "Looking in indexes: https://pypi.org/simple, https://us-python.pkg.dev/colab-wheels/public/simple/\n",
            "Collecting scipy\n",
            "  Downloading scipy-1.10.1-cp38-cp38-manylinux_2_17_x86_64.manylinux2014_x86_64.whl (34.5 MB)\n",
            "\u001b[K     |████████████████████████████████| 34.5 MB 1.3 MB/s \n",
            "\u001b[?25hRequirement already satisfied: numpy<1.27.0,>=1.19.5 in /usr/local/lib/python3.8/site-packages (from scipy) (1.24.3)\n",
            "Installing collected packages: scipy\n",
            "Successfully installed scipy-1.10.1\n"
          ]
        }
      ],
      "source": [
        "!pip install scipy"
      ]
    },
    {
      "cell_type": "code",
      "execution_count": null,
      "metadata": {
        "colab": {
          "base_uri": "https://localhost:8080/"
        },
        "id": "nX2TF5W9Lhk-",
        "outputId": "53df3098-3fb4-4339-f6f2-c9ef6536a3c4"
      },
      "outputs": [
        {
          "name": "stdout",
          "output_type": "stream",
          "text": [
            "\n",
            "Training options:\n",
            "{\n",
            "  \"num_gpus\": 1,\n",
            "  \"image_snapshot_ticks\": 50,\n",
            "  \"network_snapshot_ticks\": 50,\n",
            "  \"metrics\": [\n",
            "    \"fid50k_full\"\n",
            "  ],\n",
            "  \"random_seed\": 0,\n",
            "  \"training_set_kwargs\": {\n",
            "    \"class_name\": \"training.dataset.ImageFolderDataset\",\n",
            "    \"path\": \"/content/drive/MyDrive/traffic_sign_gan/exp_3/ouput_dir2/dataset.zip\",\n",
            "    \"use_labels\": false,\n",
            "    \"max_size\": 10,\n",
            "    \"xflip\": false,\n",
            "    \"resolution\": 128\n",
            "  },\n",
            "  \"data_loader_kwargs\": {\n",
            "    \"pin_memory\": true,\n",
            "    \"num_workers\": 3,\n",
            "    \"prefetch_factor\": 2\n",
            "  },\n",
            "  \"G_kwargs\": {\n",
            "    \"class_name\": \"training.networks.Generator\",\n",
            "    \"z_dim\": 512,\n",
            "    \"w_dim\": 512,\n",
            "    \"mapping_kwargs\": {\n",
            "      \"num_layers\": 2\n",
            "    },\n",
            "    \"synthesis_kwargs\": {\n",
            "      \"channel_base\": 16384,\n",
            "      \"channel_max\": 512,\n",
            "      \"num_fp16_res\": 4,\n",
            "      \"conv_clamp\": 256\n",
            "    }\n",
            "  },\n",
            "  \"D_kwargs\": {\n",
            "    \"class_name\": \"training.networks.Discriminator\",\n",
            "    \"block_kwargs\": {},\n",
            "    \"mapping_kwargs\": {},\n",
            "    \"epilogue_kwargs\": {\n",
            "      \"mbstd_group_size\": 4\n",
            "    },\n",
            "    \"channel_base\": 16384,\n",
            "    \"channel_max\": 512,\n",
            "    \"num_fp16_res\": 4,\n",
            "    \"conv_clamp\": 256\n",
            "  },\n",
            "  \"G_opt_kwargs\": {\n",
            "    \"class_name\": \"torch.optim.Adam\",\n",
            "    \"lr\": 0.0025,\n",
            "    \"betas\": [\n",
            "      0,\n",
            "      0.99\n",
            "    ],\n",
            "    \"eps\": 1e-08\n",
            "  },\n",
            "  \"D_opt_kwargs\": {\n",
            "    \"class_name\": \"torch.optim.Adam\",\n",
            "    \"lr\": 0.0025,\n",
            "    \"betas\": [\n",
            "      0,\n",
            "      0.99\n",
            "    ],\n",
            "    \"eps\": 1e-08\n",
            "  },\n",
            "  \"loss_kwargs\": {\n",
            "    \"class_name\": \"training.loss.StyleGAN2Loss\",\n",
            "    \"r1_gamma\": 0.1024\n",
            "  },\n",
            "  \"total_kimg\": 25000,\n",
            "  \"batch_size\": 32,\n",
            "  \"batch_gpu\": 32,\n",
            "  \"ema_kimg\": 10.0,\n",
            "  \"ema_rampup\": 0.05,\n",
            "  \"ada_target\": 0.6,\n",
            "  \"augment_kwargs\": {\n",
            "    \"class_name\": \"training.augment.AugmentPipe\",\n",
            "    \"xflip\": 1,\n",
            "    \"rotate90\": 1,\n",
            "    \"xint\": 1,\n",
            "    \"scale\": 1,\n",
            "    \"rotate\": 1,\n",
            "    \"aniso\": 1,\n",
            "    \"xfrac\": 1,\n",
            "    \"brightness\": 1,\n",
            "    \"contrast\": 1,\n",
            "    \"lumaflip\": 1,\n",
            "    \"hue\": 1,\n",
            "    \"saturation\": 1\n",
            "  },\n",
            "  \"run_dir\": \"/content/drive/MyDrive/traffic_sign_gan/exp_3/ouput_dir1/00000-dataset-auto1\"\n",
            "}\n",
            "\n",
            "Output directory:   /content/drive/MyDrive/traffic_sign_gan/exp_3/ouput_dir1/00000-dataset-auto1\n",
            "Training data:      /content/drive/MyDrive/traffic_sign_gan/exp_3/ouput_dir2/dataset.zip\n",
            "Training duration:  25000 kimg\n",
            "Number of GPUs:     1\n",
            "Number of images:   10\n",
            "Image resolution:   128\n",
            "Conditional model:  False\n",
            "Dataset x-flips:    False\n",
            "\n",
            "Dry run; exiting.\n"
          ]
        }
      ],
      "source": [
        "!python train.py --outdir=\"/content/drive/MyDrive/traffic_sign_gan/exp_3/ouput_dir1\" --data=/content/drive/MyDrive/traffic_sign_gan/exp_3/ouput_dir2/dataset.zip --dry-run"
      ]
    },
    {
      "cell_type": "code",
      "execution_count": null,
      "metadata": {
        "colab": {
          "background_save": true,
          "base_uri": "https://localhost:8080/"
        },
        "id": "UOWvLhHBTZ1A",
        "outputId": "f9fb530e-7b36-4f12-87cd-38d81d279ff7"
      },
      "outputs": [
        {
          "name": "stdout",
          "output_type": "stream",
          "text": [
            "\n",
            "Training options:\n",
            "{\n",
            "  \"num_gpus\": 1,\n",
            "  \"image_snapshot_ticks\": 50,\n",
            "  \"network_snapshot_ticks\": 50,\n",
            "  \"metrics\": [\n",
            "    \"fid50k_full\"\n",
            "  ],\n",
            "  \"random_seed\": 0,\n",
            "  \"training_set_kwargs\": {\n",
            "    \"class_name\": \"training.dataset.ImageFolderDataset\",\n",
            "    \"path\": \"/content/drive/MyDrive/traffic_sign_gan/exp_3/ouput_dir2/dataset.zip\",\n",
            "    \"use_labels\": false,\n",
            "    \"max_size\": 10,\n",
            "    \"xflip\": false,\n",
            "    \"resolution\": 128\n",
            "  },\n",
            "  \"data_loader_kwargs\": {\n",
            "    \"pin_memory\": true,\n",
            "    \"num_workers\": 3,\n",
            "    \"prefetch_factor\": 2\n",
            "  },\n",
            "  \"G_kwargs\": {\n",
            "    \"class_name\": \"training.networks.Generator\",\n",
            "    \"z_dim\": 512,\n",
            "    \"w_dim\": 512,\n",
            "    \"mapping_kwargs\": {\n",
            "      \"num_layers\": 2\n",
            "    },\n",
            "    \"synthesis_kwargs\": {\n",
            "      \"channel_base\": 16384,\n",
            "      \"channel_max\": 512,\n",
            "      \"num_fp16_res\": 4,\n",
            "      \"conv_clamp\": 256\n",
            "    }\n",
            "  },\n",
            "  \"D_kwargs\": {\n",
            "    \"class_name\": \"training.networks.Discriminator\",\n",
            "    \"block_kwargs\": {},\n",
            "    \"mapping_kwargs\": {},\n",
            "    \"epilogue_kwargs\": {\n",
            "      \"mbstd_group_size\": 4\n",
            "    },\n",
            "    \"channel_base\": 16384,\n",
            "    \"channel_max\": 512,\n",
            "    \"num_fp16_res\": 4,\n",
            "    \"conv_clamp\": 256\n",
            "  },\n",
            "  \"G_opt_kwargs\": {\n",
            "    \"class_name\": \"torch.optim.Adam\",\n",
            "    \"lr\": 0.0025,\n",
            "    \"betas\": [\n",
            "      0,\n",
            "      0.99\n",
            "    ],\n",
            "    \"eps\": 1e-08\n",
            "  },\n",
            "  \"D_opt_kwargs\": {\n",
            "    \"class_name\": \"torch.optim.Adam\",\n",
            "    \"lr\": 0.0025,\n",
            "    \"betas\": [\n",
            "      0,\n",
            "      0.99\n",
            "    ],\n",
            "    \"eps\": 1e-08\n",
            "  },\n",
            "  \"loss_kwargs\": {\n",
            "    \"class_name\": \"training.loss.StyleGAN2Loss\",\n",
            "    \"r1_gamma\": 0.1024\n",
            "  },\n",
            "  \"total_kimg\": 10,\n",
            "  \"batch_size\": 32,\n",
            "  \"batch_gpu\": 32,\n",
            "  \"ema_kimg\": 10.0,\n",
            "  \"ema_rampup\": 0.05,\n",
            "  \"ada_target\": 0.6,\n",
            "  \"augment_kwargs\": {\n",
            "    \"class_name\": \"training.augment.AugmentPipe\",\n",
            "    \"xflip\": 1,\n",
            "    \"rotate90\": 1,\n",
            "    \"xint\": 1,\n",
            "    \"scale\": 1,\n",
            "    \"rotate\": 1,\n",
            "    \"aniso\": 1,\n",
            "    \"xfrac\": 1,\n",
            "    \"brightness\": 1,\n",
            "    \"contrast\": 1,\n",
            "    \"lumaflip\": 1,\n",
            "    \"hue\": 1,\n",
            "    \"saturation\": 1\n",
            "  },\n",
            "  \"run_dir\": \"/content/drive/MyDrive/traffic_sign_gan/exp_3/ouput_dir2/00010-dataset-auto1-kimg10\"\n",
            "}\n",
            "\n",
            "Output directory:   /content/drive/MyDrive/traffic_sign_gan/exp_3/ouput_dir2/00010-dataset-auto1-kimg10\n",
            "Training data:      /content/drive/MyDrive/traffic_sign_gan/exp_3/ouput_dir2/dataset.zip\n",
            "Training duration:  10 kimg\n",
            "Number of GPUs:     1\n",
            "Number of images:   10\n",
            "Image resolution:   128\n",
            "Conditional model:  False\n",
            "Dataset x-flips:    False\n",
            "\n",
            "Creating output directory...\n",
            "Launching processes...\n",
            "Loading training set...\n",
            "\n",
            "Num images:  10\n",
            "Image shape: [3, 128, 128]\n",
            "Label shape: [0]\n",
            "\n",
            "Constructing networks...\n",
            "Setting up PyTorch plugin \"bias_act_plugin\"... Done.\n",
            "Setting up PyTorch plugin \"upfirdn2d_plugin\"... Done.\n",
            "\n",
            "Generator             Parameters  Buffers  Output shape         Datatype\n",
            "---                   ---         ---      ---                  ---     \n",
            "mapping.fc0           262656      -        [32, 512]            float32 \n",
            "mapping.fc1           262656      -        [32, 512]            float32 \n",
            "mapping               -           512      [32, 12, 512]        float32 \n",
            "synthesis.b4.conv1    2622465     32       [32, 512, 4, 4]      float32 \n",
            "synthesis.b4.torgb    264195      -        [32, 3, 4, 4]        float32 \n",
            "synthesis.b4:0        8192        16       [32, 512, 4, 4]      float32 \n",
            "synthesis.b4:1        -           -        [32, 512, 4, 4]      float32 \n",
            "synthesis.b8.conv0    2622465     80       [32, 512, 8, 8]      float32 \n",
            "synthesis.b8.conv1    2622465     80       [32, 512, 8, 8]      float32 \n",
            "synthesis.b8.torgb    264195      -        [32, 3, 8, 8]        float32 \n",
            "synthesis.b8:0        -           16       [32, 512, 8, 8]      float32 \n",
            "synthesis.b8:1        -           -        [32, 512, 8, 8]      float32 \n",
            "synthesis.b16.conv0   2622465     272      [32, 512, 16, 16]    float16 \n",
            "synthesis.b16.conv1   2622465     272      [32, 512, 16, 16]    float16 \n",
            "synthesis.b16.torgb   264195      -        [32, 3, 16, 16]      float16 \n",
            "synthesis.b16:0       -           16       [32, 512, 16, 16]    float16 \n",
            "synthesis.b16:1       -           -        [32, 512, 16, 16]    float32 \n",
            "synthesis.b32.conv0   2622465     1040     [32, 512, 32, 32]    float16 \n",
            "synthesis.b32.conv1   2622465     1040     [32, 512, 32, 32]    float16 \n",
            "synthesis.b32.torgb   264195      -        [32, 3, 32, 32]      float16 \n",
            "synthesis.b32:0       -           16       [32, 512, 32, 32]    float16 \n",
            "synthesis.b32:1       -           -        [32, 512, 32, 32]    float32 \n",
            "synthesis.b64.conv0   1442561     4112     [32, 256, 64, 64]    float16 \n",
            "synthesis.b64.conv1   721409      4112     [32, 256, 64, 64]    float16 \n",
            "synthesis.b64.torgb   132099      -        [32, 3, 64, 64]      float16 \n",
            "synthesis.b64:0       -           16       [32, 256, 64, 64]    float16 \n",
            "synthesis.b64:1       -           -        [32, 256, 64, 64]    float32 \n",
            "synthesis.b128.conv0  426369      16400    [32, 128, 128, 128]  float16 \n",
            "synthesis.b128.conv1  213249      16400    [32, 128, 128, 128]  float16 \n",
            "synthesis.b128.torgb  66051       -        [32, 3, 128, 128]    float16 \n",
            "synthesis.b128:0      -           16       [32, 128, 128, 128]  float16 \n",
            "synthesis.b128:1      -           -        [32, 128, 128, 128]  float32 \n",
            "---                   ---         ---      ---                  ---     \n",
            "Total                 22949277    44448    -                    -       \n",
            "\n",
            "\n",
            "Discriminator  Parameters  Buffers  Output shape         Datatype\n",
            "---            ---         ---      ---                  ---     \n",
            "b128.fromrgb   512         16       [32, 128, 128, 128]  float16 \n",
            "b128.skip      32768       16       [32, 256, 64, 64]    float16 \n",
            "b128.conv0     147584      16       [32, 128, 128, 128]  float16 \n",
            "b128.conv1     295168      16       [32, 256, 64, 64]    float16 \n",
            "b128           -           16       [32, 256, 64, 64]    float16 \n",
            "b64.skip       131072      16       [32, 512, 32, 32]    float16 \n",
            "b64.conv0      590080      16       [32, 256, 64, 64]    float16 \n",
            "b64.conv1      1180160     16       [32, 512, 32, 32]    float16 \n",
            "b64            -           16       [32, 512, 32, 32]    float16 \n",
            "b32.skip       262144      16       [32, 512, 16, 16]    float16 \n",
            "b32.conv0      2359808     16       [32, 512, 32, 32]    float16 \n",
            "b32.conv1      2359808     16       [32, 512, 16, 16]    float16 \n",
            "b32            -           16       [32, 512, 16, 16]    float16 \n",
            "b16.skip       262144      16       [32, 512, 8, 8]      float16 \n",
            "b16.conv0      2359808     16       [32, 512, 16, 16]    float16 \n",
            "b16.conv1      2359808     16       [32, 512, 8, 8]      float16 \n",
            "b16            -           16       [32, 512, 8, 8]      float16 \n",
            "b8.skip        262144      16       [32, 512, 4, 4]      float32 \n",
            "b8.conv0       2359808     16       [32, 512, 8, 8]      float32 \n",
            "b8.conv1       2359808     16       [32, 512, 4, 4]      float32 \n",
            "b8             -           16       [32, 512, 4, 4]      float32 \n",
            "b4.mbstd       -           -        [32, 513, 4, 4]      float32 \n",
            "b4.conv        2364416     16       [32, 512, 4, 4]      float32 \n",
            "b4.fc          4194816     -        [32, 512]            float32 \n",
            "b4.out         513         -        [32, 1]              float32 \n",
            "---            ---         ---      ---                  ---     \n",
            "Total          23882369    352      -                    -       \n",
            "\n",
            "Setting up augmentation...\n",
            "Distributing across 1 GPUs...\n",
            "Setting up training phases...\n",
            "Exporting sample images...\n",
            "Initializing logs...\n",
            "Skipping tfevents export: No module named 'tensorboard'\n",
            "Training for 10 kimg...\n",
            "\n",
            "tick 0     kimg 0.0      time 1m 32s       sec/tick 7.1     sec/kimg 221.43  maintenance 85.1   cpumem 3.98   gpumem 10.90  augment 0.000\n",
            "Evaluating metrics...\n",
            "{\"results\": {\"fid50k_full\": 357.40801311122897}, \"metric\": \"fid50k_full\", \"total_time\": 569.5100662708282, \"total_time_str\": \"9m 30s\", \"num_gpus\": 1, \"snapshot_pkl\": \"network-snapshot-000000.pkl\", \"timestamp\": 1687247475.9850852}\n",
            "tick 1     kimg 4.0      time 14m 20s      sec/tick 186.4   sec/kimg 46.59   maintenance 581.8  cpumem 4.25   gpumem 7.18   augment 0.003\n",
            "tick 2     kimg 8.0      time 17m 26s      sec/tick 185.3   sec/kimg 46.31   maintenance 0.2    cpumem 4.25   gpumem 7.17   augment 0.009\n",
            "tick 3     kimg 10.0     time 18m 58s      sec/tick 92.3    sec/kimg 46.51   maintenance 0.2    cpumem 4.25   gpumem 7.18   augment 0.012\n",
            "Evaluating metrics...\n",
            "{\"results\": {\"fid50k_full\": 426.4341247151465}, \"metric\": \"fid50k_full\", \"total_time\": 561.3496370315552, \"total_time_str\": \"9m 21s\", \"num_gpus\": 1, \"snapshot_pkl\": \"network-snapshot-000010.pkl\", \"timestamp\": 1687248516.143755}\n",
            "\n",
            "Exiting...\n"
          ]
        }
      ],
      "source": [
        "!python train.py --outdir=\"/content/drive/MyDrive/traffic_sign_gan/exp_3/ouput_dir2\" --data=/content/drive/MyDrive/traffic_sign_gan/exp_3/ouput_dir2/dataset.zip --kimg=10"
      ]
    },
    {
      "cell_type": "code",
      "execution_count": null,
      "metadata": {
        "id": "JHKXvlcRerKz",
        "colab": {
          "base_uri": "https://localhost:8080/"
        },
        "outputId": "594da481-bdd9-495d-9062-5c7c681fa885"
      },
      "outputs": [
        {
          "output_type": "stream",
          "name": "stdout",
          "text": [
            "Loading networks from \"/content/drive/MyDrive/traffic_sign_gan/exp_3/ouput_dir2/00002-dataset-auto1-kimg10/network-snapshot-000010.pkl\"...\n",
            "Generating image for seed 85 (0/4) ...\n",
            "Setting up PyTorch plugin \"bias_act_plugin\"... Done.\n",
            "Setting up PyTorch plugin \"upfirdn2d_plugin\"... Done.\n",
            "Generating image for seed 265 (1/4) ...\n",
            "Generating image for seed 297 (2/4) ...\n",
            "Generating image for seed 849 (3/4) ...\n"
          ]
        }
      ],
      "source": [
        "!python generate.py --outdir=/content/drive/MyDrive/traffic_sign_gan/exp_3/out --trunc=1 --seeds=85,265,297,849 \\\n",
        "    --network=/content/drive/MyDrive/traffic_sign_gan/exp_3/ouput_dir2/00001-dataset-auto1-kimg10/network-snapshot-000010.pkl"
      ]
    },
    {
      "cell_type": "code",
      "source": [
        "!python generate.py --outdir=/content/drive/MyDrive/traffic_sign_gan/exp_3/out3 --trunc=0.3 --seeds=5,6,7,8,9,10 \\\n",
        " --network=/content/drive/MyDrive/traffic_sign_gan/exp_3/ouput_dir2/00002-dataset-auto1-kimg10/network-snapshot-000010.pkl\n"
      ],
      "metadata": {
        "id": "dtBscHhdPjlo"
      },
      "execution_count": null,
      "outputs": []
    },
    {
      "cell_type": "code",
      "source": [
        "!python generate.py --outdir=/content/drive/MyDrive/traffic_sign_gan/exp_3/out2 --trunc=0.7 --seeds=1,2,3,4,5,6,7,8,9,10 \\\n",
        " --network=/content/drive/MyDrive/traffic_sign_gan/exp_3/ouput_dir2/00002-dataset-auto1-kimg10/network-snapshot-000010.pkl\n"
      ],
      "metadata": {
        "id": "hKOWQOcJyKio"
      },
      "execution_count": null,
      "outputs": []
    },
    {
      "cell_type": "code",
      "source": [
        "!python generate.py --outdir=/content/drive/MyDrive/traffic_sign_gan/exp_3/out3 --trunc=0.3 --seeds=5,6,7,8,9,10 \\\n",
        " --network=/content/drive/MyDrive/traffic_sign_gan/exp_3/ouput_dir2/00002-dataset-auto1-kimg10/network-snapshot-000010.pkl\n"
      ],
      "metadata": {
        "id": "fKifm1Icz-Dv"
      },
      "execution_count": null,
      "outputs": []
    },
    {
      "cell_type": "code",
      "source": [
        "!python generate.py --outdir=/content/drive/MyDrive/traffic_sign_gan/exp_3/out1 --trunc=0.5 --seeds=85,265,297,849,1,2,3,4,5,6,7,8,9,10 \\\n",
        " --network=/content/drive/MyDrive/traffic_sign_gan/exp_3/ouput_dir2/00002-dataset-auto1-kimg10/network-snapshot-000010.pkl\n"
      ],
      "metadata": {
        "id": "_Llf02vhg5Vw"
      },
      "execution_count": null,
      "outputs": []
    },
    {
      "cell_type": "code",
      "source": [
        "#original code for generate.py\n",
        "!python generate.py --outdir=/content/drive/MyDrive/traffic_sign_gan/exp_3/out --trunc=1 --seeds=85,265,297,849 \\\n",
        "    --network=/content/drive/MyDrive/traffic_sign_gan/exp_3/ouput_dir2/00002-dataset-auto1-kimg10/network-snapshot-000010.pkl"
      ],
      "metadata": {
        "id": "3lnQzpZSfF22"
      },
      "execution_count": null,
      "outputs": []
    }
  ],
  "metadata": {
    "accelerator": "GPU",
    "colab": {
      "provenance": [],
      "include_colab_link": true
    },
    "kernelspec": {
      "display_name": "Python 3",
      "name": "python3"
    },
    "language_info": {
      "name": "python"
    }
  },
  "nbformat": 4,
  "nbformat_minor": 0
}